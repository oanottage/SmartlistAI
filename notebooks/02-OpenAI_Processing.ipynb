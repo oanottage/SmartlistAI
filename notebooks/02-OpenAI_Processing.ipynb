{
 "cells": [
  {
   "cell_type": "code",
   "execution_count": 21,
   "id": "12dc0915",
   "metadata": {},
   "outputs": [],
   "source": [
    "import os\n",
    "import openai\n",
    "import pandas as pd\n",
    "import os\n",
    "import warnings\n",
    "import pdfkit\n",
    "from datetime import datetime\n",
    "warnings.filterwarnings(\"ignore\")\n",
    "os.chdir('/Users/oanottage/Desktop/BTS/Data Science Foundations/DSFinal/')\n",
    "\n",
    "import configparser\n",
    "config = configparser.ConfigParser()\n",
    "config.read('secrets/config.ini')"
   ]
  },
  {
   "cell_type": "code",
   "execution_count": 23,
   "id": "31d9810b",
   "metadata": {},
   "outputs": [],
   "source": [
    "openai.api_key = config['DEFAULT']['openai_api_key']\n",
    "\n",
    "raw = pd.read_csv(\"data/external/NewsAPI/artificial_intelligence_articles_FROM_2023-02-09_TO_2023-03-09.csv\")\n"
   ]
  },
  {
   "cell_type": "code",
   "execution_count": 24,
   "id": "466420f8",
   "metadata": {},
   "outputs": [],
   "source": [
    "df_raw = raw[raw['title'].notnull()].reindex(columns = raw.columns.tolist() + ['Minor_Tag','Major_Tag','Summary'])"
   ]
  },
  {
   "cell_type": "code",
   "execution_count": 25,
   "id": "c1f7dcb2",
   "metadata": {},
   "outputs": [],
   "source": [
    "df = df_raw.head(10)"
   ]
  },
  {
   "cell_type": "code",
   "execution_count": 26,
   "id": "6fc6e2a1",
   "metadata": {},
   "outputs": [],
   "source": [
    "summary=\"Give 20-50 word summary of this article: \"\n",
    "major=\"Give me 3 major tags for this article: \"\n",
    "minor=\"Give me 3 major tags for this article: \""
   ]
  },
  {
   "cell_type": "code",
   "execution_count": 27,
   "id": "eef4b3f6",
   "metadata": {},
   "outputs": [],
   "source": [
    "#Minor Tag\n",
    "for i in range(df.shape[0]):  \n",
    "    response = openai.Completion.create(\n",
    "        model=\"text-davinci-003\", \n",
    "        prompt= minor+df[\"content\"].iloc[i], \n",
    "        temperature=0, \n",
    "        max_tokens=60,\n",
    "        top_p = 1,\n",
    "        frequency_penalty = 0.5)\n",
    "    answer = response['choices'][0]['text']\n",
    "    df[\"Minor_Tag\"].iloc[i] = answer"
   ]
  },
  {
   "cell_type": "code",
   "execution_count": 28,
   "id": "2d4e6f5e",
   "metadata": {},
   "outputs": [],
   "source": [
    "#Major Tag\n",
    "for i in range(df.shape[0]):  \n",
    "    response = openai.Completion.create(\n",
    "        model=\"text-davinci-003\", \n",
    "        prompt= major+df[\"content\"].iloc[i], \n",
    "        temperature=0, \n",
    "        max_tokens=60,\n",
    "        top_p = 1,\n",
    "        frequency_penalty = 0.5)\n",
    "    answer = response['choices'][0]['text']\n",
    "    df[\"Major_Tag\"].iloc[i] = answer"
   ]
  },
  {
   "cell_type": "code",
   "execution_count": 29,
   "id": "6aa6e4f7",
   "metadata": {},
   "outputs": [],
   "source": [
    "#Summary\n",
    "for i in range(df.shape[0]):  \n",
    "    response = openai.Completion.create(\n",
    "        model=\"text-davinci-003\", \n",
    "        prompt= summary+df[\"content\"].iloc[i], \n",
    "        temperature=0, \n",
    "        max_tokens=100,\n",
    "        top_p = 1,\n",
    "        frequency_penalty = 0.5)\n",
    "    answer = response['choices'][0]['text']\n",
    "    df[\"Summary\"].iloc[i] = answer"
   ]
  },
  {
   "cell_type": "code",
   "execution_count": 30,
   "id": "d736926d",
   "metadata": {},
   "outputs": [
    {
     "data": {
      "text/html": [
       "<div>\n",
       "<style scoped>\n",
       "    .dataframe tbody tr th:only-of-type {\n",
       "        vertical-align: middle;\n",
       "    }\n",
       "\n",
       "    .dataframe tbody tr th {\n",
       "        vertical-align: top;\n",
       "    }\n",
       "\n",
       "    .dataframe thead th {\n",
       "        text-align: right;\n",
       "    }\n",
       "</style>\n",
       "<table border=\"1\" class=\"dataframe\">\n",
       "  <thead>\n",
       "    <tr style=\"text-align: right;\">\n",
       "      <th></th>\n",
       "      <th>source_id</th>\n",
       "      <th>source_name</th>\n",
       "      <th>index</th>\n",
       "      <th>author</th>\n",
       "      <th>title</th>\n",
       "      <th>description</th>\n",
       "      <th>url</th>\n",
       "      <th>urlToImage</th>\n",
       "      <th>publishedAt</th>\n",
       "      <th>content</th>\n",
       "      <th>Minor_Tag</th>\n",
       "      <th>Major_Tag</th>\n",
       "      <th>Summary</th>\n",
       "    </tr>\n",
       "  </thead>\n",
       "  <tbody>\n",
       "    <tr>\n",
       "      <th>0</th>\n",
       "      <td>business-insider</td>\n",
       "      <td>Business Insider</td>\n",
       "      <td>0</td>\n",
       "      <td>bevans@insider.com (Brian Evans)</td>\n",
       "      <td>Charlie Munger says artificial intelligence is...</td>\n",
       "      <td>\"Artificial intelligence is very important, bu...</td>\n",
       "      <td>https://markets.businessinsider.com/news/stock...</td>\n",
       "      <td>https://i.insider.com/63ed4ad1dd6fcf00194a8e0a...</td>\n",
       "      <td>2023-02-15T21:33:22Z</td>\n",
       "      <td>Billionaire investor Charlie Munger said Wedne...</td>\n",
       "      <td>\\n\\n1. Artificial Intelligence \\n2. Charlie Mu...</td>\n",
       "      <td>\\n\\n1. Artificial Intelligence \\n2. Charlie Mu...</td>\n",
       "      <td></td>\n",
       "    </tr>\n",
       "    <tr>\n",
       "      <th>1</th>\n",
       "      <td>NaN</td>\n",
       "      <td>VentureBeat</td>\n",
       "      <td>1</td>\n",
       "      <td>Sri Krishna</td>\n",
       "      <td>Quantum Brilliance snags $18M funding on synth...</td>\n",
       "      <td>Quantum Brilliance, which today announced an $...</td>\n",
       "      <td>https://venturebeat.com/programming-developmen...</td>\n",
       "      <td>https://venturebeat.com/wp-content/uploads/202...</td>\n",
       "      <td>2023-02-15T00:45:33Z</td>\n",
       "      <td>Quantum Brilliance hit the quantum computing s...</td>\n",
       "      <td>\\n\\n1. Quantum Computing\\n2. Synthetic Diamond...</td>\n",
       "      <td>\\n\\n1. Quantum Computing\\n2. Synthetic Diamond...</td>\n",
       "      <td></td>\n",
       "    </tr>\n",
       "    <tr>\n",
       "      <th>2</th>\n",
       "      <td>NaN</td>\n",
       "      <td>9to5Mac</td>\n",
       "      <td>2</td>\n",
       "      <td>Ben Lovejoy</td>\n",
       "      <td>Bing chatbot disasters: Why Apple isn’t jumpin...</td>\n",
       "      <td>If I’d asked the Bing chatbot to support our a...</td>\n",
       "      <td>https://9to5mac.com/2023/02/17/bing-chatbot-di...</td>\n",
       "      <td>https://i0.wp.com/9to5mac.com/wp-content/uploa...</td>\n",
       "      <td>2023-02-17T15:13:52Z</td>\n",
       "      <td>If I’d asked the Bing chatbot to support our a...</td>\n",
       "      <td>\\n\\n1. Artificial Intelligence (AI)\\n2. Apple ...</td>\n",
       "      <td>\\n\\n1. Artificial Intelligence (AI)\\n2. Apple ...</td>\n",
       "      <td>\\n\\nThe Bing chatbot has recently had conversa...</td>\n",
       "    </tr>\n",
       "    <tr>\n",
       "      <th>3</th>\n",
       "      <td>NaN</td>\n",
       "      <td>Phys.Org</td>\n",
       "      <td>3</td>\n",
       "      <td>Cathy Bussewitz</td>\n",
       "      <td>Insider Q&amp;A: Satellite company fights climate ...</td>\n",
       "      <td>Finding and fixing methane leaks has been iden...</td>\n",
       "      <td>https://phys.org/news/2023-03-insider-qa-satel...</td>\n",
       "      <td>https://scx2.b-cdn.net/gfx/news/hires/2023/ins...</td>\n",
       "      <td>2023-03-06T13:47:18Z</td>\n",
       "      <td>Finding and fixing methane leaks has been iden...</td>\n",
       "      <td>\\n\\n1. Global Warming\\n2. Methane Leaks\\n3. GH...</td>\n",
       "      <td>\\n\\n1. Global Warming\\n2. Methane Leaks\\n3. GH...</td>\n",
       "      <td></td>\n",
       "    </tr>\n",
       "    <tr>\n",
       "      <th>4</th>\n",
       "      <td>bloomberg</td>\n",
       "      <td>Bloomberg</td>\n",
       "      <td>4</td>\n",
       "      <td>Vildana Hajric, Michael P. Regan</td>\n",
       "      <td>How State Street Has Used AI to Find 'Hidden G...</td>\n",
       "      <td>ChatGPT has taken the internet by storm, trigg...</td>\n",
       "      <td>https://www.bloomberg.com/news/articles/2023-0...</td>\n",
       "      <td>https://assets.bwbx.io/images/users/iqjWHBFdfx...</td>\n",
       "      <td>2023-02-11T19:06:43Z</td>\n",
       "      <td>ChatGPT has taken the internet by storm, trigg...</td>\n",
       "      <td>\\n\\n1. Artificial Intelligence (AI)\\n2. ChatGP...</td>\n",
       "      <td>\\n\\n1. Artificial Intelligence (AI)\\n2. ChatGP...</td>\n",
       "      <td></td>\n",
       "    </tr>\n",
       "  </tbody>\n",
       "</table>\n",
       "</div>"
      ],
      "text/plain": [
       "          source_id       source_name  index  \\\n",
       "0  business-insider  Business Insider      0   \n",
       "1               NaN       VentureBeat      1   \n",
       "2               NaN           9to5Mac      2   \n",
       "3               NaN          Phys.Org      3   \n",
       "4         bloomberg         Bloomberg      4   \n",
       "\n",
       "                             author  \\\n",
       "0  bevans@insider.com (Brian Evans)   \n",
       "1                       Sri Krishna   \n",
       "2                       Ben Lovejoy   \n",
       "3                   Cathy Bussewitz   \n",
       "4  Vildana Hajric, Michael P. Regan   \n",
       "\n",
       "                                               title  \\\n",
       "0  Charlie Munger says artificial intelligence is...   \n",
       "1  Quantum Brilliance snags $18M funding on synth...   \n",
       "2  Bing chatbot disasters: Why Apple isn’t jumpin...   \n",
       "3  Insider Q&A: Satellite company fights climate ...   \n",
       "4  How State Street Has Used AI to Find 'Hidden G...   \n",
       "\n",
       "                                         description  \\\n",
       "0  \"Artificial intelligence is very important, bu...   \n",
       "1  Quantum Brilliance, which today announced an $...   \n",
       "2  If I’d asked the Bing chatbot to support our a...   \n",
       "3  Finding and fixing methane leaks has been iden...   \n",
       "4  ChatGPT has taken the internet by storm, trigg...   \n",
       "\n",
       "                                                 url  \\\n",
       "0  https://markets.businessinsider.com/news/stock...   \n",
       "1  https://venturebeat.com/programming-developmen...   \n",
       "2  https://9to5mac.com/2023/02/17/bing-chatbot-di...   \n",
       "3  https://phys.org/news/2023-03-insider-qa-satel...   \n",
       "4  https://www.bloomberg.com/news/articles/2023-0...   \n",
       "\n",
       "                                          urlToImage           publishedAt  \\\n",
       "0  https://i.insider.com/63ed4ad1dd6fcf00194a8e0a...  2023-02-15T21:33:22Z   \n",
       "1  https://venturebeat.com/wp-content/uploads/202...  2023-02-15T00:45:33Z   \n",
       "2  https://i0.wp.com/9to5mac.com/wp-content/uploa...  2023-02-17T15:13:52Z   \n",
       "3  https://scx2.b-cdn.net/gfx/news/hires/2023/ins...  2023-03-06T13:47:18Z   \n",
       "4  https://assets.bwbx.io/images/users/iqjWHBFdfx...  2023-02-11T19:06:43Z   \n",
       "\n",
       "                                             content  \\\n",
       "0  Billionaire investor Charlie Munger said Wedne...   \n",
       "1  Quantum Brilliance hit the quantum computing s...   \n",
       "2  If I’d asked the Bing chatbot to support our a...   \n",
       "3  Finding and fixing methane leaks has been iden...   \n",
       "4  ChatGPT has taken the internet by storm, trigg...   \n",
       "\n",
       "                                           Minor_Tag  \\\n",
       "0  \\n\\n1. Artificial Intelligence \\n2. Charlie Mu...   \n",
       "1  \\n\\n1. Quantum Computing\\n2. Synthetic Diamond...   \n",
       "2  \\n\\n1. Artificial Intelligence (AI)\\n2. Apple ...   \n",
       "3  \\n\\n1. Global Warming\\n2. Methane Leaks\\n3. GH...   \n",
       "4  \\n\\n1. Artificial Intelligence (AI)\\n2. ChatGP...   \n",
       "\n",
       "                                           Major_Tag  \\\n",
       "0  \\n\\n1. Artificial Intelligence \\n2. Charlie Mu...   \n",
       "1  \\n\\n1. Quantum Computing\\n2. Synthetic Diamond...   \n",
       "2  \\n\\n1. Artificial Intelligence (AI)\\n2. Apple ...   \n",
       "3  \\n\\n1. Global Warming\\n2. Methane Leaks\\n3. GH...   \n",
       "4  \\n\\n1. Artificial Intelligence (AI)\\n2. ChatGP...   \n",
       "\n",
       "                                             Summary  \n",
       "0                                                     \n",
       "1                                                     \n",
       "2  \\n\\nThe Bing chatbot has recently had conversa...  \n",
       "3                                                     \n",
       "4                                                     "
      ]
     },
     "execution_count": 30,
     "metadata": {},
     "output_type": "execute_result"
    }
   ],
   "source": [
    "df.head()"
   ]
  },
  {
   "cell_type": "code",
   "execution_count": 61,
   "id": "117a6733",
   "metadata": {},
   "outputs": [
    {
     "data": {
      "text/plain": [
       "'for i in range(df.shape[0]):\\n  print(f\"<h3>Article {i+1}: {df[\\'title\\'].iloc[i]}</h3\")\\n  print(\"<br>\")\\n  print(f\\'<img src=\"{df[\"urlToImage\"].iloc[i]}\" width=\"500\" height=\"300\">\\')\\n  print(\"<br>\")\\n  print(\"<br>\")\\n  print(\"Summary: \" +df[\\'Summary\\'].iloc[i].replace(\"\\n\", \"\"))\\n  print(\"<br>\")  \\n  print(f\"<a href=\\'{df[\\'url\\'].iloc[i]}\\' target=\\'_blank\\'>Click to read more</a> <br>\")\\n  print(\"<br>\")\\n  print(\"Tags: \" +df[\\'Major_Tag\\'].iloc[i].replace(\"\\n\", \"<br>\"))\\n  print(\"<br>\")\\n  print(\"\")'"
      ]
     },
     "execution_count": 61,
     "metadata": {},
     "output_type": "execute_result"
    }
   ],
   "source": [
    "\"\"\"for i in range(df.shape[0]):\n",
    "  print(f\"<h3>Article {i+1}: {df['title'].iloc[i]}</h3\")\n",
    "  print(\"<br>\")\n",
    "  print(f'<img src=\"{df[\"urlToImage\"].iloc[i]}\" width=\"500\" height=\"300\">')\n",
    "  print(\"<br>\")\n",
    "  print(\"<br>\")\n",
    "  print(\"Summary: \" +df['Summary'].iloc[i].replace(\"\\n\", \"\"))\n",
    "  print(\"<br>\")  \n",
    "  print(f\"<a href='{df['url'].iloc[i]}' target='_blank'>Click to read more</a> <br>\")\n",
    "  print(\"<br>\")\n",
    "  print(\"Tags: \" +df['Major_Tag'].iloc[i].replace(\"\\n\", \"<br>\"))\n",
    "  print(\"<br>\")\n",
    "  print(\"\")\"\"\""
   ]
  },
  {
   "cell_type": "code",
   "execution_count": 31,
   "id": "c57146c3",
   "metadata": {},
   "outputs": [],
   "source": [
    "html_str = ''\n",
    "\n",
    "# loop through the dataframe and generate the HTML code\n",
    "for i in range(df.shape[0]):\n",
    "    html_str += f\"<h3>Article {i+1}: {df['title'].iloc[i]}</h3>\"\n",
    "    html_str += \"<br>\"\n",
    "    html_str += f'<img src=\"{df[\"urlToImage\"].iloc[i]}\" width=\"500\" height=\"300\">'\n",
    "    html_str += \"<br>\"\n",
    "    html_str += \"<br>\"\n",
    "    html_str += \"Summary: \" + df['Summary'].iloc[i].replace(\"\\n\", \"\")\n",
    "    html_str += \"<br>\"\n",
    "    html_str += f\"<a href='{df['url'].iloc[i]}' target='_blank'>Click to read more</a> <br>\"\n",
    "    html_str += \"<br>\"\n",
    "    html_str += \"Tags: \" + df['Major_Tag'].iloc[i].replace(\"\\n\", \"<br>\")\n",
    "    html_str += \"<br>\"\n",
    "    html_str += \"\""
   ]
  },
  {
   "cell_type": "code",
   "execution_count": 32,
   "id": "f6b31af3",
   "metadata": {},
   "outputs": [],
   "source": [
    "today = datetime.today().date()"
   ]
  },
  {
   "cell_type": "code",
   "execution_count": 33,
   "id": "b7204863",
   "metadata": {},
   "outputs": [],
   "source": [
    "config = pdfkit.configuration(wkhtmltopdf='/usr/local/bin/wkhtmltopdf')"
   ]
  },
  {
   "cell_type": "code",
   "execution_count": 34,
   "id": "7ea68e92",
   "metadata": {},
   "outputs": [
    {
     "data": {
      "text/plain": [
       "True"
      ]
     },
     "execution_count": 34,
     "metadata": {},
     "output_type": "execute_result"
    }
   ],
   "source": [
    "# create a PDF file from the HTML string\n",
    "pdfkit.from_string(html_str, f'deliverables/OpenAI_Top_{df.shape[0]}_news_article_summaries_{today}.pdf')"
   ]
  },
  {
   "cell_type": "code",
   "execution_count": 35,
   "id": "493afa9e",
   "metadata": {},
   "outputs": [],
   "source": [
    "df.to_csv(f\"deliverables/OpenAI_Top_{df.shape[0]}_news_article_summaries_{today}.csv\")"
   ]
  },
  {
   "cell_type": "code",
   "execution_count": null,
   "id": "fc137d40",
   "metadata": {},
   "outputs": [],
   "source": []
  }
 ],
 "metadata": {
  "kernelspec": {
   "display_name": "Python 3 (ipykernel)",
   "language": "python",
   "name": "python3"
  },
  "language_info": {
   "codemirror_mode": {
    "name": "ipython",
    "version": 3
   },
   "file_extension": ".py",
   "mimetype": "text/x-python",
   "name": "python",
   "nbconvert_exporter": "python",
   "pygments_lexer": "ipython3",
   "version": "3.9.16"
  }
 },
 "nbformat": 4,
 "nbformat_minor": 5
}
